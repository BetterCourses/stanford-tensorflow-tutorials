{
 "cells": [
  {
   "cell_type": "code",
   "execution_count": 2,
   "metadata": {
    "ExecuteTime": {
     "end_time": "2018-03-07T15:11:50.631644Z",
     "start_time": "2018-03-07T15:11:50.074643Z"
    }
   },
   "outputs": [
    {
     "name": "stdout",
     "output_type": "stream",
     "text": [
      "Populating the interactive namespace from numpy and matplotlib\n"
     ]
    }
   ],
   "source": [
    "%pylab inline"
   ]
  },
  {
   "cell_type": "code",
   "execution_count": 3,
   "metadata": {
    "ExecuteTime": {
     "end_time": "2018-03-07T15:12:14.379679Z",
     "start_time": "2018-03-07T15:11:52.508703Z"
    }
   },
   "outputs": [
    {
     "name": "stdout",
     "output_type": "stream",
     "text": [
      "Epoch 0: 1661.8637834631543\n",
      "Epoch 1: 956.3224148609137\n",
      "Epoch 2: 844.6737023980994\n",
      "Epoch 3: 750.7312486011339\n",
      "Epoch 4: 667.6598341012079\n",
      "Epoch 5: 594.1417715627896\n",
      "Epoch 6: 529.07878103068\n",
      "Epoch 7: 471.5004191489204\n",
      "Epoch 8: 420.5458626462441\n",
      "Epoch 9: 375.45530721966765\n",
      "Epoch 10: 335.5543025185697\n",
      "Epoch 11: 300.24629857978107\n",
      "Epoch 12: 269.00376475843336\n",
      "Epoch 13: 241.35957466852116\n",
      "Epoch 14: 216.90039135300015\n",
      "Epoch 15: 195.25972298129324\n",
      "Epoch 16: 176.1137693605349\n",
      "Epoch 17: 159.17551693441837\n",
      "Epoch 18: 144.1907111125557\n",
      "Epoch 19: 130.93503488078713\n",
      "Epoch 20: 119.20935661137888\n",
      "Epoch 21: 108.8379309807855\n",
      "Epoch 22: 99.66466760624593\n",
      "Epoch 23: 91.55177013029001\n",
      "Epoch 24: 84.37664046781751\n",
      "Epoch 25: 78.03217824997724\n",
      "Epoch 26: 72.42182927812989\n",
      "Epoch 27: 67.46136239485718\n",
      "Epoch 28: 63.07566952367442\n",
      "Epoch 29: 59.19874146522856\n",
      "Epoch 30: 55.77168446383194\n",
      "Epoch 31: 52.74269822355127\n",
      "Epoch 32: 50.065632780875376\n",
      "Epoch 33: 47.70006421631674\n",
      "Epoch 34: 45.61017902122909\n",
      "Epoch 35: 43.76379750625255\n",
      "Epoch 36: 42.13259221098116\n",
      "Epoch 37: 40.69221939330516\n",
      "Epoch 38: 39.420219863367905\n",
      "Epoch 39: 38.297008645340895\n",
      "Epoch 40: 37.305591759538146\n",
      "Epoch 41: 36.43066341609841\n",
      "Epoch 42: 35.658453942681234\n",
      "Epoch 43: 34.97724816803575\n",
      "Epoch 44: 34.37655378567349\n",
      "Epoch 45: 33.84671358035044\n",
      "Epoch 46: 33.379665882282545\n",
      "Epoch 47: 32.96800991297258\n",
      "Epoch 48: 32.60548541990942\n",
      "Epoch 49: 32.28618434173986\n",
      "Epoch 50: 32.004961317298495\n",
      "Epoch 51: 31.757531331044525\n",
      "Epoch 52: 31.53978877073019\n",
      "Epoch 53: 31.348356819100445\n",
      "Epoch 54: 31.180119247269193\n",
      "Epoch 55: 31.03225782010038\n",
      "Epoch 56: 30.902462910201574\n",
      "Epoch 57: 30.78859985760776\n",
      "Epoch 58: 30.688725355066556\n",
      "Epoch 59: 30.60122861903357\n",
      "Epoch 60: 30.524590178362192\n",
      "Epoch 61: 30.457532704476954\n",
      "Epoch 62: 30.398967422668726\n",
      "Epoch 63: 30.34777825418737\n",
      "Epoch 64: 30.303121465726413\n",
      "Epoch 65: 30.26424930739051\n",
      "Epoch 66: 30.230392129550456\n",
      "Epoch 67: 30.200964921590334\n",
      "Epoch 68: 30.175501555469697\n",
      "Epoch 69: 30.153343991707324\n",
      "Epoch 70: 30.134226098457216\n",
      "Epoch 71: 30.117758308603477\n",
      "Epoch 72: 30.103543774372174\n",
      "Epoch 73: 30.09139442229674\n",
      "Epoch 74: 30.0809388476427\n",
      "Epoch 75: 30.07208499982095\n",
      "Epoch 76: 30.06452690966084\n",
      "Epoch 77: 30.058150938555205\n",
      "Epoch 78: 30.05278219980139\n",
      "Epoch 79: 30.04828310612785\n",
      "Epoch 80: 30.04458791257593\n",
      "Epoch 81: 30.041550708114855\n",
      "Epoch 82: 30.039046437352113\n",
      "Epoch 83: 30.03704103724602\n",
      "Epoch 84: 30.03545715799831\n",
      "Epoch 85: 30.034288759106282\n",
      "Epoch 86: 30.03338805212261\n",
      "Epoch 87: 30.032769865304076\n",
      "Epoch 88: 30.032386838833535\n",
      "Epoch 89: 30.032150670733166\n",
      "Epoch 90: 30.032092865493677\n",
      "Epoch 91: 30.032186730024037\n",
      "Epoch 92: 30.03240725137661\n",
      "Epoch 93: 30.032643962397827\n",
      "Epoch 94: 30.033039376884087\n",
      "Epoch 95: 30.033435566514413\n",
      "Epoch 96: 30.033922631802085\n",
      "Epoch 97: 30.03442924663878\n",
      "Epoch 98: 30.0349335548615\n",
      "Epoch 99: 30.03552558278714\n",
      "w: -6.070214, b: 84.929512\n",
      "Took: 14.546734 seconds\n",
      "Figure(640x480)\n"
     ]
    },
    {
     "name": "stderr",
     "output_type": "stream",
     "text": [
      "C:\\Anaconda3\\lib\\site-packages\\h5py\\__init__.py:34: FutureWarning: Conversion of the second argument of issubdtype from `float` to `np.floating` is deprecated. In future, it will be treated as `np.float64 == np.dtype(float).type`.\n",
      "  from ._conv import register_converters as _register_converters\n"
     ]
    }
   ],
   "source": [
    "!python 03_linreg_dataset.py"
   ]
  },
  {
   "cell_type": "code",
   "execution_count": null,
   "metadata": {},
   "outputs": [],
   "source": []
  }
 ],
 "metadata": {
  "kernelspec": {
   "display_name": "Python 3",
   "language": "python",
   "name": "python3"
  },
  "language_info": {
   "codemirror_mode": {
    "name": "ipython",
    "version": 3
   },
   "file_extension": ".py",
   "mimetype": "text/x-python",
   "name": "python",
   "nbconvert_exporter": "python",
   "pygments_lexer": "ipython3",
   "version": "3.6.3"
  },
  "toc": {
   "nav_menu": {},
   "number_sections": true,
   "sideBar": true,
   "skip_h1_title": false,
   "title_cell": "Table of Contents",
   "title_sidebar": "Contents",
   "toc_cell": false,
   "toc_position": {},
   "toc_section_display": true,
   "toc_window_display": false
  },
  "varInspector": {
   "cols": {
    "lenName": 16,
    "lenType": 16,
    "lenVar": 40
   },
   "kernels_config": {
    "python": {
     "delete_cmd_postfix": "",
     "delete_cmd_prefix": "del ",
     "library": "var_list.py",
     "varRefreshCmd": "print(var_dic_list())"
    },
    "r": {
     "delete_cmd_postfix": ") ",
     "delete_cmd_prefix": "rm(",
     "library": "var_list.r",
     "varRefreshCmd": "cat(var_dic_list()) "
    }
   },
   "types_to_exclude": [
    "module",
    "function",
    "builtin_function_or_method",
    "instance",
    "_Feature"
   ],
   "window_display": false
  }
 },
 "nbformat": 4,
 "nbformat_minor": 2
}
